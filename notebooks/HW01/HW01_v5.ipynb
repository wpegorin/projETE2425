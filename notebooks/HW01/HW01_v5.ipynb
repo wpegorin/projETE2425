{
 "cells": [
  {
   "cell_type": "markdown",
   "id": "68e8de86-163e-4b15-ae8d-2d1838edcbb1",
   "metadata": {
    "id": "68e8de86-163e-4b15-ae8d-2d1838edcbb1"
   },
   "source": [
    "# A Influência da Dimensão Espacial nos Valores Médios das Rendas Habitacionais: Uma Análise Econométrica Espacial das Freguesias da Região de Aveiro\n",
    "\n",
    "### Quais os fatores espaciais que influenciam a variação dos valores médios das rendas dos alojamentos nas freguesias da região de Aveiro?\n",
    "\n",
    "A variação dos valores das rendas nas freguesias da Região Aveiro não é aleatória, sendo influenciada por fatores espaciais como proximidade a centros urbanos, acessibilidade e dinâmica socioeconómica. A econometria permite analisar se há dependência espacial, ou seja, se os preços das rendas numa freguesia são influenciados pelos das freguesias vizinhas. Identificar esses padrões ajuda a compreender a formação dos preços, detetar clusters de rendas elevadas e fornecer informações relevantes para políticas habitacionais e planeamento urbano mais eficientes."
   ]
  },
  {
   "cell_type": "markdown",
   "id": "7e8546eb-76f2-4499-ba1d-00faa5beeeba",
   "metadata": {
    "id": "7e8546eb-76f2-4499-ba1d-00faa5beeeba"
   },
   "source": [
    "### Configuração do Ambiente e Importação de Bibliotecas"
   ]
  },
  {
   "cell_type": "markdown",
   "id": "990e6d2d-6c8f-4cf4-b0a8-2dd30081c5f2",
   "metadata": {
    "id": "990e6d2d-6c8f-4cf4-b0a8-2dd30081c5f2"
   },
   "source": [
    "#### Importação de Bibliotecas"
   ]
  },
  {
   "cell_type": "code",
   "execution_count": 1,
   "id": "93502241-20df-4c91-b1e1-b0e51103f6bb",
   "metadata": {
    "id": "93502241-20df-4c91-b1e1-b0e51103f6bb"
   },
   "outputs": [],
   "source": [
    "import os\n",
    "import sys\n",
    "import importlib\n",
    "from pathlib import Path\n",
    "\n",
    "import pandas as pd\n",
    "import geopandas as gpd\n",
    "\n",
    "import numpy as np\n",
    "\n",
    "\n",
    "\n",
    "import matplotlib.pyplot as plt\n",
    "import contextily as cx\n",
    "\n",
    "import folium"
   ]
  },
  {
   "cell_type": "code",
   "execution_count": 2,
   "id": "27942aa8-7611-4c19-b9dd-6b817b9d83c4",
   "metadata": {
    "id": "27942aa8-7611-4c19-b9dd-6b817b9d83c4",
    "outputId": "624bbb3a-c920-41aa-9c2b-25596d0da380"
   },
   "outputs": [
    {
     "name": "stdout",
     "output_type": "stream",
     "text": [
      "None\n"
     ]
    }
   ],
   "source": [
    "print(gpd.options.io_engine)"
   ]
  },
  {
   "cell_type": "code",
   "execution_count": 3,
   "id": "c70361ad-ecfa-4e3c-8717-bedb1b3d6917",
   "metadata": {
    "id": "c70361ad-ecfa-4e3c-8717-bedb1b3d6917"
   },
   "outputs": [],
   "source": [
    "from pyogrio import list_layers"
   ]
  },
  {
   "cell_type": "markdown",
   "id": "42234c53-8e21-4a08-ab91-982bb08f59e2",
   "metadata": {
    "id": "42234c53-8e21-4a08-ab91-982bb08f59e2"
   },
   "source": [
    "#### Definição da diretoria de trabalho na diretoria raiz do projeto"
   ]
  },
  {
   "cell_type": "code",
   "execution_count": 4,
   "id": "c911fc0c-60f1-4ffc-9983-ecb46e9ea00c",
   "metadata": {
    "id": "c911fc0c-60f1-4ffc-9983-ecb46e9ea00c",
    "outputId": "528ef38d-dc5e-442e-bc45-8e51c676cf7c"
   },
   "outputs": [
    {
     "name": "stdout",
     "output_type": "stream",
     "text": [
      "Working directory set to: C:\\Users\\wpego\\anaconda3\\projETE2425-main\n"
     ]
    }
   ],
   "source": [
    "from pathlib import Path\n",
    "\n",
    "# Find the project root (assuming marker-based or script-relative path)\n",
    "def find_project_root(marker=\"README.md\"):\n",
    "    current_dir = Path.cwd()\n",
    "    while current_dir != current_dir.parent:  # Traverse up until root\n",
    "        if (current_dir / marker).exists():\n",
    "            return current_dir\n",
    "        current_dir = current_dir.parent\n",
    "    raise FileNotFoundError(f\"Marker '{marker}' not found in any parent directory.\")\n",
    "\n",
    "project_root = find_project_root()\n",
    "sys.path.append(str(project_root))\n",
    "\n",
    "# Or use a relative path: project_root = Path(__file__).resolve().parent.parent\n",
    "os.chdir(project_root)\n",
    "print(f\"Working directory set to: {project_root}\")"
   ]
  },
  {
   "cell_type": "markdown",
   "id": "47377d83-da4e-41e7-a432-baef02812e3d",
   "metadata": {
    "id": "47377d83-da4e-41e7-a432-baef02812e3d"
   },
   "source": [
    "#### Inclusão de biblioteca própria aos caminhos das bibliotecas"
   ]
  },
  {
   "cell_type": "code",
   "execution_count": 5,
   "id": "9cb8cc88-b0d9-49ea-9995-cdb47f53c979",
   "metadata": {
    "id": "9cb8cc88-b0d9-49ea-9995-cdb47f53c979"
   },
   "outputs": [],
   "source": [
    "module_path = os.path.abspath(os.path.join(r'.\\src'))\n",
    "if module_path not in sys.path:\n",
    "    sys.path.append(module_path)"
   ]
  },
  {
   "cell_type": "code",
   "execution_count": 6,
   "id": "d85b3c83-5b3b-4d95-ae18-6b2dc0b98a5f",
   "metadata": {
    "id": "d85b3c83-5b3b-4d95-ae18-6b2dc0b98a5f",
    "outputId": "d93f622b-11af-4db1-ff11-fe68b16b6130"
   },
   "outputs": [
    {
     "data": {
      "text/plain": [
       "'C:\\\\Users\\\\wpego\\\\anaconda3\\\\projETE2425-main\\\\src'"
      ]
     },
     "execution_count": 6,
     "metadata": {},
     "output_type": "execute_result"
    }
   ],
   "source": [
    "module_path"
   ]
  },
  {
   "cell_type": "code",
   "execution_count": 7,
   "id": "945930ae-1f7b-439f-b642-25f313a96983",
   "metadata": {
    "id": "945930ae-1f7b-439f-b642-25f313a96983"
   },
   "outputs": [],
   "source": [
    "import utils.utils_ete2425"
   ]
  },
  {
   "cell_type": "markdown",
   "id": "72c71946-5f50-4a13-bf47-3fe0d97ce74e",
   "metadata": {
    "id": "72c71946-5f50-4a13-bf47-3fe0d97ce74e"
   },
   "source": [
    "### Preparação e Estruturação dos Dados Geoespaciais\n",
    "\n",
    "Prepararam-se os dados geoespaciais que servirão como base para associar as freguesias aos valores da variável em estudo. Através do BGRI (Base Geográfica de Referenciação da Informação), obtêm-se unidades espaciais detalhadas da Região de Aveiro, delimitando a área de análise. Por outro lado, o CAOP (Carta Administrativa Oficial de Portugal) fornece os limites administrativos, sendo as freguesias a unidade territorial de interesse.\n",
    "\n",
    "Para garantir a compatibilidade e facilitar a análise espacial, os dados converteram-se para o sistema de coordenadas global WGS84 (EPSG:4326). Esta transformação permite uma melhor integração dos dados em análises espaciais, mapas interativos e modelação econométrica espacial, assegurando que todas as camadas de informação estejam alinhadas no mesmo referencial."
   ]
  },
  {
   "cell_type": "markdown",
   "id": "47288a29-70e1-4025-b80d-84a880bcd71e",
   "metadata": {
    "id": "47288a29-70e1-4025-b80d-84a880bcd71e"
   },
   "source": [
    "#### Carregamento de Dados Geoespaciais\n",
    "\n",
    "BGRI: https://mapas.ine.pt/download/index2021\n",
    "\n",
    "REGIAO DE AVEIRO [BGRI21_16D.gpkg](https://mapas.ine.pt/download/filesGPG/2021/nuts3/BGRI21_16D.zip)\n",
    "\n",
    "NUTS3: 191 região de aveiro.\n",
    "link [CAOP2024](https://www.dgterritorio.gov.pt/sites/default/files/ficheiros-cartografia/Areas_Freg_Mun_Dist_Pais_CAOP2024.zip)\n"
   ]
  },
  {
   "cell_type": "code",
   "execution_count": 8,
   "id": "8a35965a-f6ce-4857-b421-ab01b08a5ff2",
   "metadata": {
    "id": "8a35965a-f6ce-4857-b421-ab01b08a5ff2"
   },
   "outputs": [],
   "source": [
    "shape_REGIAO_AVEIRO = gpd.read_file(r'.\\data\\input' + r'\\HW01\\BGRI21_16D.gpkg', layer = 'BGRI21_16D' )"
   ]
  },
  {
   "cell_type": "markdown",
   "id": "a6c6e48b-6fbe-4731-80cf-14f626418600",
   "metadata": {
    "id": "a6c6e48b-6fbe-4731-80cf-14f626418600"
   },
   "source": [
    "#### Visualização e Transformação dos Dados\n",
    "\n",
    "A visualização dos dados geográficos permite validar se as freguesias da região de Aveiro estão corretamente representadas."
   ]
  },
  {
   "cell_type": "code",
   "execution_count": 9,
   "id": "0c466009-afa2-4779-a6eb-e5b47fe1c4ae",
   "metadata": {
    "id": "0c466009-afa2-4779-a6eb-e5b47fe1c4ae",
    "outputId": "7e37df10-9d52-4982-b5f0-06c38d011bcb"
   },
   "outputs": [
    {
     "data": {
      "text/plain": [
       "<Axes: >"
      ]
     },
     "execution_count": 9,
     "metadata": {},
     "output_type": "execute_result"
    },
    {
     "data": {
      "image/png": "[encoded data removed]",
      "text/plain": [
       "<Figure size 640x480 with 1 Axes>"
      ]
     },
     "metadata": {},
     "output_type": "display_data"
    }
   ],
   "source": [
    "shape_REG_AVEIRO_WGS84 = shape_REGIAO_AVEIRO.to_crs(epsg=4326)\n",
    "shape_REG_AVEIRO_WGS84.plot()"
   ]
  },
  {
   "cell_type": "markdown",
   "id": "dcf9a029-cfcc-40a7-80b0-d575a7afd2a9",
   "metadata": {
    "id": "dcf9a029-cfcc-40a7-80b0-d575a7afd2a9"
   },
   "source": [
    "### Processamento e Análise dos Dados Espaciais e das Rendas Habitacionais"
   ]
  },
  {
   "cell_type": "markdown",
   "id": "5fa23f6e-7c28-432f-9447-795933ef5eb3",
   "metadata": {
    "id": "5fa23f6e-7c28-432f-9447-795933ef5eb3",
    "jp-MarkdownHeadingCollapsed": true
   },
   "source": [
    "#### Carregamento e Estruturação dos Dados das Rendas Habitacionais\n",
    "\n",
    "Optou-se pelo seguinte indicador disponibilizado pelo INE (Instituto Nacional de Estatística): **Valor médio mensal das rendas dos alojamentos familiares clássicos arrendados (€) por Localização geográfica à data dos Censos [2021] (NUTS - 2013). Decenal – INE, Recenseamento da população e habitação – Censos 2021**. Nota-se que este indicador representa uma visão geral do mercado de arrendamento, agregando transações realizadas em diferentes momentos no tempo. Como está associado à operação censitária, apresenta uma cobertura abrangente, incluindo todas as freguesias do país e unidades espaciais de fins estatísticos, como as subsecções.\n",
    "\n",
    "A seleção dos dados deste indicador incidiu exclusivamente sobre a Região de Aveiro, garantindo que a análise concentra-se apenas no território em estudo."
   ]
  },
  {
   "cell_type": "code",
   "execution_count": 10,
   "id": "904a2d8b-7566-405b-add7-5eb0eddd0b57",
   "metadata": {
    "id": "904a2d8b-7566-405b-add7-5eb0eddd0b57"
   },
   "outputs": [],
   "source": [
    "db_excel_ine_rendaHab = pd.read_excel(r'.\\data\\input\\HW01\\HW01.xlsx',\n",
    "                                       skiprows=9,\n",
    "                                       skipfooter=5, header=None,\n",
    "                                       dtype='str'\n",
    "                                       )\n",
    "db_excel_ine_rendaHab.rename(columns={0:\"Designacao\", 1:\"GeoCod\", 2:\"ValMed_RendaMen\"}, inplace=True)"
   ]
  },
  {
   "cell_type": "code",
   "execution_count": 11,
   "id": "d75315e0-4e88-40a1-a461-678d7d324cae",
   "metadata": {
    "id": "d75315e0-4e88-40a1-a461-678d7d324cae",
    "outputId": "b67e9ef2-170d-4016-8053-558f05b82326"
   },
   "outputs": [
    {
     "data": {
      "text/html": [
       "<div>\n",
       "<style scoped>\n",
       "    .dataframe tbody tr th:only-of-type {\n",
       "        vertical-align: middle;\n",
       "    }\n",
       "\n",
       "    .dataframe tbody tr th {\n",
       "        vertical-align: top;\n",
       "    }\n",
       "\n",
       "    .dataframe thead th {\n",
       "        text-align: right;\n",
       "    }\n",
       "</style>\n",
       "<table border=\"1\" class=\"dataframe\">\n",
       "  <thead>\n",
       "    <tr style=\"text-align: right;\">\n",
       "      <th></th>\n",
       "      <th>Designacao</th>\n",
       "      <th>GeoCod</th>\n",
       "      <th>ValMed_RendaMen</th>\n",
       "    </tr>\n",
       "  </thead>\n",
       "  <tbody>\n",
       "    <tr>\n",
       "      <th>0</th>\n",
       "      <td>Região de Aveiro</td>\n",
       "      <td>16D</td>\n",
       "      <td>321.38</td>\n",
       "    </tr>\n",
       "    <tr>\n",
       "      <th>1</th>\n",
       "      <td>Águeda</td>\n",
       "      <td>0101</td>\n",
       "      <td>278.43</td>\n",
       "    </tr>\n",
       "    <tr>\n",
       "      <th>84</th>\n",
       "      <td>União das freguesias de Ponte de Vagos e Santa...</td>\n",
       "      <td>011813</td>\n",
       "      <td>294.26</td>\n",
       "    </tr>\n",
       "    <tr>\n",
       "      <th>85</th>\n",
       "      <td>União das freguesias de Vagos e Santo António</td>\n",
       "      <td>011814</td>\n",
       "      <td>315.68</td>\n",
       "    </tr>\n",
       "  </tbody>\n",
       "</table>\n",
       "</div>"
      ],
      "text/plain": [
       "                                           Designacao  GeoCod ValMed_RendaMen\n",
       "0                                    Região de Aveiro     16D          321.38\n",
       "1                                              Águeda    0101          278.43\n",
       "84  União das freguesias de Ponte de Vagos e Santa...  011813          294.26\n",
       "85      União das freguesias de Vagos e Santo António  011814          315.68"
      ]
     },
     "execution_count": 11,
     "metadata": {},
     "output_type": "execute_result"
    }
   ],
   "source": [
    "#visulizando as duas primeiras observações (0,1) e as duas ultimas (-2,-1)\n",
    "db_excel_ine_rendaHab.iloc[[0,1,-2,-1]]"
   ]
  },
  {
   "cell_type": "code",
   "execution_count": 12,
   "id": "7283bce7-09d2-4f69-a9aa-12ab6524a949",
   "metadata": {
    "id": "7283bce7-09d2-4f69-a9aa-12ab6524a949"
   },
   "outputs": [],
   "source": [
    "db_excel_ine_rendaHab['LEVEL'] = db_excel_ine_rendaHab['GeoCod'].str.len()"
   ]
  },
  {
   "cell_type": "code",
   "execution_count": 13,
   "id": "204af976-35ea-445d-a289-48b8e11709d4",
   "metadata": {
    "id": "204af976-35ea-445d-a289-48b8e11709d4",
    "outputId": "b2872940-f081-45e0-cdff-599a15f7c295"
   },
   "outputs": [
    {
     "data": {
      "text/html": [
       "<div>\n",
       "<style scoped>\n",
       "    .dataframe tbody tr th:only-of-type {\n",
       "        vertical-align: middle;\n",
       "    }\n",
       "\n",
       "    .dataframe tbody tr th {\n",
       "        vertical-align: top;\n",
       "    }\n",
       "\n",
       "    .dataframe thead th {\n",
       "        text-align: right;\n",
       "    }\n",
       "</style>\n",
       "<table border=\"1\" class=\"dataframe\">\n",
       "  <thead>\n",
       "    <tr style=\"text-align: right;\">\n",
       "      <th></th>\n",
       "      <th>Designacao</th>\n",
       "      <th>GeoCod</th>\n",
       "      <th>ValMed_RendaMen</th>\n",
       "      <th>LEVEL</th>\n",
       "    </tr>\n",
       "  </thead>\n",
       "  <tbody>\n",
       "    <tr>\n",
       "      <th>0</th>\n",
       "      <td>Região de Aveiro</td>\n",
       "      <td>16D</td>\n",
       "      <td>321.38</td>\n",
       "      <td>3</td>\n",
       "    </tr>\n",
       "    <tr>\n",
       "      <th>1</th>\n",
       "      <td>Águeda</td>\n",
       "      <td>0101</td>\n",
       "      <td>278.43</td>\n",
       "      <td>4</td>\n",
       "    </tr>\n",
       "    <tr>\n",
       "      <th>2</th>\n",
       "      <td>Aguada de Cima</td>\n",
       "      <td>010103</td>\n",
       "      <td>256.49</td>\n",
       "      <td>6</td>\n",
       "    </tr>\n",
       "    <tr>\n",
       "      <th>3</th>\n",
       "      <td>Fermentelos</td>\n",
       "      <td>010109</td>\n",
       "      <td>277</td>\n",
       "      <td>6</td>\n",
       "    </tr>\n",
       "  </tbody>\n",
       "</table>\n",
       "</div>"
      ],
      "text/plain": [
       "         Designacao  GeoCod ValMed_RendaMen  LEVEL\n",
       "0  Região de Aveiro     16D          321.38      3\n",
       "1            Águeda    0101          278.43      4\n",
       "2    Aguada de Cima  010103          256.49      6\n",
       "3       Fermentelos  010109             277      6"
      ]
     },
     "execution_count": 13,
     "metadata": {},
     "output_type": "execute_result"
    }
   ],
   "source": [
    "db_excel_ine_rendaHab.head(4)"
   ]
  },
  {
   "cell_type": "code",
   "execution_count": 14,
   "id": "ceb580ef-7661-492e-bc22-316b899e6fd2",
   "metadata": {
    "id": "ceb580ef-7661-492e-bc22-316b899e6fd2",
    "outputId": "009f7143-d0e1-4548-ff35-c2de2fad85ab"
   },
   "outputs": [
    {
     "data": {
      "text/html": [
       "<div>\n",
       "<style scoped>\n",
       "    .dataframe tbody tr th:only-of-type {\n",
       "        vertical-align: middle;\n",
       "    }\n",
       "\n",
       "    .dataframe tbody tr th {\n",
       "        vertical-align: top;\n",
       "    }\n",
       "\n",
       "    .dataframe thead th {\n",
       "        text-align: right;\n",
       "    }\n",
       "</style>\n",
       "<table border=\"1\" class=\"dataframe\">\n",
       "  <thead>\n",
       "    <tr style=\"text-align: right;\">\n",
       "      <th></th>\n",
       "      <th>Designacao</th>\n",
       "      <th>GeoCod</th>\n",
       "      <th>ValMed_RendaMen</th>\n",
       "      <th>LEVEL</th>\n",
       "    </tr>\n",
       "  </thead>\n",
       "  <tbody>\n",
       "    <tr>\n",
       "      <th>2</th>\n",
       "      <td>Aguada de Cima</td>\n",
       "      <td>010103</td>\n",
       "      <td>256.49</td>\n",
       "      <td>6</td>\n",
       "    </tr>\n",
       "    <tr>\n",
       "      <th>3</th>\n",
       "      <td>Fermentelos</td>\n",
       "      <td>010109</td>\n",
       "      <td>277</td>\n",
       "      <td>6</td>\n",
       "    </tr>\n",
       "    <tr>\n",
       "      <th>4</th>\n",
       "      <td>Macinhata do Vouga</td>\n",
       "      <td>010112</td>\n",
       "      <td>262.7</td>\n",
       "      <td>6</td>\n",
       "    </tr>\n",
       "    <tr>\n",
       "      <th>5</th>\n",
       "      <td>União das freguesias de Águeda e Borralha</td>\n",
       "      <td>010121</td>\n",
       "      <td>293.49</td>\n",
       "      <td>6</td>\n",
       "    </tr>\n",
       "    <tr>\n",
       "      <th>6</th>\n",
       "      <td>União das freguesias de Barrô e Aguada de Baixo</td>\n",
       "      <td>010122</td>\n",
       "      <td>257.15</td>\n",
       "      <td>6</td>\n",
       "    </tr>\n",
       "  </tbody>\n",
       "</table>\n",
       "</div>"
      ],
      "text/plain": [
       "                                        Designacao  GeoCod ValMed_RendaMen  \\\n",
       "2                                   Aguada de Cima  010103          256.49   \n",
       "3                                      Fermentelos  010109             277   \n",
       "4                               Macinhata do Vouga  010112           262.7   \n",
       "5        União das freguesias de Águeda e Borralha  010121          293.49   \n",
       "6  União das freguesias de Barrô e Aguada de Baixo  010122          257.15   \n",
       "\n",
       "   LEVEL  \n",
       "2      6  \n",
       "3      6  \n",
       "4      6  \n",
       "5      6  \n",
       "6      6  "
      ]
     },
     "execution_count": 14,
     "metadata": {},
     "output_type": "execute_result"
    }
   ],
   "source": [
    "#selecionando apenas as freguesias\n",
    "db_excel_ine_rendaHab_freg = db_excel_ine_rendaHab[db_excel_ine_rendaHab['LEVEL'] == 6]\n",
    "db_excel_ine_rendaHab_freg.iloc[0:5]"
   ]
  },
  {
   "cell_type": "markdown",
   "id": "fcad92be-4690-442e-a429-1447b3f00e71",
   "metadata": {
    "id": "fcad92be-4690-442e-a429-1447b3f00e71"
   },
   "source": [
    "#### Construção de Polígonos por freguesia para Análise Espacial"
   ]
  },
  {
   "cell_type": "code",
   "execution_count": 15,
   "id": "ea2d8ff8-b731-485e-928d-67141eb42809",
   "metadata": {
    "id": "ea2d8ff8-b731-485e-928d-67141eb42809"
   },
   "outputs": [],
   "source": [
    "agg_columns = shape_REG_AVEIRO_WGS84.columns[13:45].tolist()"
   ]
  },
  {
   "cell_type": "code",
   "execution_count": 16,
   "id": "6f1952aa-5796-4e4b-8c84-f2dcbd346483",
   "metadata": {
    "id": "6f1952aa-5796-4e4b-8c84-f2dcbd346483"
   },
   "outputs": [],
   "source": [
    "agg_dict = {col: 'sum' for col in agg_columns}"
   ]
  },
  {
   "cell_type": "code",
   "execution_count": 17,
   "id": "23956211-e6d2-45aa-bf40-68604054b86c",
   "metadata": {
    "id": "23956211-e6d2-45aa-bf40-68604054b86c",
    "outputId": "7d7792c0-6355-4ca7-f711-8ac951f09358"
   },
   "outputs": [
    {
     "data": {
      "text/plain": [
       "<Axes: >"
      ]
     },
     "execution_count": 17,
     "metadata": {},
     "output_type": "execute_result"
    },
    {
     "data": {
      "image/png": "[encoded data removed]",
      "text/plain": [
       "<Figure size 640x480 with 1 Axes>"
      ]
     },
     "metadata": {},
     "output_type": "display_data"
    }
   ],
   "source": [
    "# Criar uma representação geométrica do municipio (polígono único)\n",
    "# Permite-nos ter uma representação dos limites da área de estudo\n",
    "# Atenção que mantém o mesmo referencial geográfico dos dados originais\n",
    "\n",
    "shape_REG_Aveiro = shape_REG_AVEIRO_WGS84.dissolve(by='DTMNFR21', aggfunc=agg_dict)#agrega a area para as freguesias\n",
    "shape_REG_Aveiro.plot()"
   ]
  },
  {
   "cell_type": "markdown",
   "id": "5c969b18-5cbc-4298-80f3-e1ff35688276",
   "metadata": {
    "id": "5c969b18-5cbc-4298-80f3-e1ff35688276"
   },
   "source": [
    "**Notas:**\n",
    "\n",
    "Optámos por representar as freguesias através de **polígonos georreferenciados**, pois esta abordagem permite uma visualização clara da distribuição espacial das rendas da habitação. O uso de shapefiles (ficheiros extraídos do INE) facilita a sobreposição com dados estatísticos e a criação de matrizes de vizinhança.\n",
    "\n",
    "Este tipo de representação, muito comum em análises econométricas espaciais,ajuda a perceber se freguesias próximas têm valores parecidos ou se há grandes diferenças entre vizinhos. Também nos permite calcular as distâncias entre freguesias e ver se os preços das rendas influenciam-se uns aos outros, fatores fundamentais para avaliar a dependência espacial e a autocorrelação dos dados."
   ]
  },
  {
   "cell_type": "markdown",
   "id": "9a6b9d6f-5c4b-4c83-b981-8f84ce9bb429",
   "metadata": {
    "id": "9a6b9d6f-5c4b-4c83-b981-8f84ce9bb429"
   },
   "source": [
    "#### Reprojeção e Sobreposição com Mapas de Base"
   ]
  },
  {
   "cell_type": "code",
   "execution_count": 18,
   "id": "a114198c-87f1-4526-9506-f702975d23c2",
   "metadata": {
    "id": "a114198c-87f1-4526-9506-f702975d23c2"
   },
   "outputs": [],
   "source": [
    "# Projeção geográfica do sistema de referenciação fornecido na BGRI2021 (EPSG:3763) para o sistema de referenciação\n",
    "# utilizado na biblioteca \"contextily\" (EPSG:3857)\n",
    "# A biblioteca \"contextily\" permite a sobreposição de mapas base (imagens de satélite, mapas de ruas, etc) sobre\n",
    "# os nossos mapas / representações geométricas das nossas unidades de análise\n",
    "shape_REG_Aveiro_WGS84_reprojetct = shape_REGIAO_AVEIRO.to_crs(epsg=3857)"
   ]
  },
  {
   "cell_type": "code",
   "execution_count": null,
   "id": "1cb3c99b-4cd0-47bb-98c0-8716c4bf50db",
   "metadata": {
    "id": "1cb3c99b-4cd0-47bb-98c0-8716c4bf50db",
    "outputId": "9383dca6-a3aa-4a3d-bc56-70395223fc4e"
   },
   "outputs": [],
   "source": [
    "# Adição de um mapa de fundo ao nosso mapa de subsecções estatísticas do Porto\n",
    "# Neste caso, associamos um mapa obtido no serviço OpenStreetMaps https://www.openstreetmap.org/\n",
    "\n",
    "ax = shape_REG_Aveiro_WGS84_reprojetct.plot(figsize=(10, 10), alpha=0.2, edgecolor=\"k\")\n",
    "cx.add_basemap(ax)"
   ]
  },
  {
   "cell_type": "markdown",
   "id": "f0a387b4-3207-4a5f-bc37-c87797a55a1b",
   "metadata": {
    "id": "f0a387b4-3207-4a5f-bc37-c87797a55a1b"
   },
   "source": [
    "#### Integração das Rendas Habitacionais com os Dados Espaciais"
   ]
  },
  {
   "cell_type": "code",
   "execution_count": null,
   "id": "27a5595b-dbf8-4f0e-88c3-b7f6c34914e9",
   "metadata": {
    "id": "27a5595b-dbf8-4f0e-88c3-b7f6c34914e9"
   },
   "outputs": [],
   "source": [
    "db_excel_ine_rendaHab_freg = db_excel_ine_rendaHab_freg.copy()\n",
    "db_excel_ine_rendaHab_freg.rename(columns={\"GeoCod\":\"DTMNFR21\"}, inplace=True)\n",
    "db_excel_ine_rendaHab_freg['ValMed_RendaMen'] = db_excel_ine_rendaHab_freg['ValMed_RendaMen'].astype(float)"
   ]
  },
  {
   "cell_type": "code",
   "execution_count": null,
   "id": "40f1e56b-21de-4c07-8807-5d480ca1dfa4",
   "metadata": {
    "id": "40f1e56b-21de-4c07-8807-5d480ca1dfa4"
   },
   "outputs": [],
   "source": [
    "shape_REG_Aveiro_rendaHab = shape_REG_Aveiro.merge(db_excel_ine_rendaHab_freg, left_on = 'DTMNFR21', right_on = 'DTMNFR21', how = 'left')"
   ]
  },
  {
   "cell_type": "markdown",
   "id": "0819ed47-c106-4535-aaba-8365fec8fd63",
   "metadata": {
    "id": "0819ed47-c106-4535-aaba-8365fec8fd63"
   },
   "source": [
    "#### Visualização da Distribuição Espacial das Rendas"
   ]
  },
  {
   "cell_type": "code",
   "execution_count": null,
   "id": "c3dc6a38-c22e-4bb2-9f0f-21cc8dbe8539",
   "metadata": {
    "id": "c3dc6a38-c22e-4bb2-9f0f-21cc8dbe8539",
    "outputId": "8a903e53-90b7-4fd0-c54c-801a58107d75"
   },
   "outputs": [],
   "source": [
    "figura, ax = plt.subplots(1, figsize=(8, 9))\n",
    "shape_REG_Aveiro_rendaHab.plot(ax=ax, column='ValMed_RendaMen',\n",
    "                               legend=True)\n",
    "ax.set_axis_off()\n",
    "ax.set_title('Valor médio mensal das rendas dos alojamentos familiares clássicos arrendados (€) (2021)')\n",
    "plt.axis('equal')\n",
    "plt.show()"
   ]
  },
  {
   "cell_type": "markdown",
   "id": "3feb5971-bf57-445d-9110-0c65472bf6cf",
   "metadata": {
    "id": "3feb5971-bf57-445d-9110-0c65472bf6cf"
   },
   "source": [
    "**Análise:**\n",
    "\n",
    "O mapa apresenta a distribuição espacial dos valores médios das rendas dos alojamentos familiares arrendados na região de Aveiro à data de 2021. A escala de cores *indica* uma variação significativa nos preços, com valores mais baixos representados por tons azulados e mais elevados por tons amarelados.\n",
    "\n",
    "Observa-se que as freguesias com rendas mais elevadas estão concentradas na faixa ocidental da região, especialmente próximas ao litoral, onde há uma maior atratividade económica e turística. Em contraste, as freguesias do interior apresentam rendas mais reduzidas, sugerindo menor pressão da procura habitacional.\n",
    "\n",
    "Uma exceção a este padrão verifica-se na área que inclui S. Jacinto e Torreira, onde as rendas médias são relativamente baixas, apesar da proximidade ao litoral. Esta discrepância pode estar associada a fatores como acessibilidade limitada, menor desenvolvimento urbano ou um mercado imobiliário menos dinâmico em comparação com outras zonas costeiras da região.\n",
    "\n",
    "A distribuição espacial sugere a presença de dependência espacial, uma característica relevante para a análise econométrica. Freguesias adjacentes tendem a exibir valores semelhantes e próximos entre si, o que pode indicar a influência de fatores regionais como acessibilidade, oferta imobiliária e a dinâmica do mercado local."
   ]
  },
  {
   "cell_type": "markdown",
   "id": "c27e4f3b-cf30-46bf-9794-9caba1e389c1",
   "metadata": {
    "id": "c27e4f3b-cf30-46bf-9794-9caba1e389c1"
   },
   "source": [
    "#### Análise da Distribuição das Rendas e Classificação dos Dados"
   ]
  },
  {
   "cell_type": "code",
   "execution_count": null,
   "id": "06c8753f-9178-483f-a434-e0cb1e9cd8b6",
   "metadata": {
    "id": "06c8753f-9178-483f-a434-e0cb1e9cd8b6"
   },
   "outputs": [],
   "source": [
    "# https://pysal.org/mapclassify/api.html\n",
    "# pysal.viz »» mapclassify\n",
    "import mapclassify as mc\n",
    "\n",
    "import seaborn as sns"
   ]
  },
  {
   "cell_type": "code",
   "execution_count": null,
   "id": "19edb99b-9f20-448a-8517-3afb8f2e78b1",
   "metadata": {
    "id": "19edb99b-9f20-448a-8517-3afb8f2e78b1",
    "outputId": "7002016e-6b0a-4fc1-a969-c51909dd3f95"
   },
   "outputs": [],
   "source": [
    "shape_REG_Aveiro_rendaHab['ValMed_RendaMen'].describe().round(1)"
   ]
  },
  {
   "cell_type": "markdown",
   "id": "0a4299a3-3bd3-4d8a-bdf3-53a64b6bde7a",
   "metadata": {
    "id": "0a4299a3-3bd3-4d8a-bdf3-53a64b6bde7a"
   },
   "source": [
    "\n",
    "A visualização dos padrões geográficos das variáveis constitui um elemento chave na análise exploratória dos dados espacias.\n",
    "No entanto, a visualização requer a configuração de paletes de cor para descrever as características marcantes dos dados. Importa assim perceber a distribuição dos dados e fornecer uma palete de cores que nos descreva as propriedades mais marcantes dessa distribuição.\n",
    "\n",
    "Importa assim conjugar a exploração gráfica da distribuição dos dados - para a qual recorremos à livraria mapclassify e seaborn - bem como a sua visualização geográfica."
   ]
  },
  {
   "cell_type": "code",
   "execution_count": null,
   "id": "440ce5a9-b583-4132-ab9a-7b2c735bd12a",
   "metadata": {
    "id": "440ce5a9-b583-4132-ab9a-7b2c735bd12a",
    "outputId": "079c864a-ce2f-44c2-bc1e-97693775886f"
   },
   "outputs": [],
   "source": [
    "# Intervalos iguais\n",
    "\n",
    "classi = mc.EqualInterval(shape_REG_Aveiro_rendaHab['ValMed_RendaMen'], k=7)\n",
    "classi"
   ]
  },
  {
   "cell_type": "markdown",
   "id": "0a82eb7a-5204-4f1e-8f01-eec0b6217106",
   "metadata": {
    "id": "0a82eb7a-5204-4f1e-8f01-eec0b6217106"
   },
   "source": [
    "##### Quantiles"
   ]
  },
  {
   "cell_type": "code",
   "execution_count": null,
   "id": "ee5b61aa-1a18-4a28-a9a7-6a90ff5e675b",
   "metadata": {
    "id": "ee5b61aa-1a18-4a28-a9a7-6a90ff5e675b",
    "outputId": "4831323f-d960-4e60-bcb2-e2fa3a4456a1"
   },
   "outputs": [],
   "source": [
    "classi_quant = mc.Quantiles(shape_REG_Aveiro_rendaHab['ValMed_RendaMen'], k=6)\n",
    "classi_quant"
   ]
  },
  {
   "cell_type": "code",
   "execution_count": null,
   "id": "5f7e1d95-1a83-4c0d-bbbd-c2f6de43fbcc",
   "metadata": {
    "id": "5f7e1d95-1a83-4c0d-bbbd-c2f6de43fbcc",
    "outputId": "3f117c24-8392-4aaa-8117-09df28e1b89e"
   },
   "outputs": [],
   "source": [
    "classi_quant.bins"
   ]
  },
  {
   "cell_type": "code",
   "execution_count": null,
   "id": "c7f3aa3a-17aa-43f1-86ac-9d03437cef52",
   "metadata": {
    "id": "c7f3aa3a-17aa-43f1-86ac-9d03437cef52",
    "outputId": "58da5f6e-4fc9-4508-98a0-3ec4d6cb4344"
   },
   "outputs": [],
   "source": [
    "# Código padrão - usa a livraria seaborn (extende a matplotlib )\n",
    "# https://seaborn.pydata.org/tutorial.html\n",
    "# Set up the figure\n",
    "f, ax = plt.subplots(1)\n",
    "# Plot the kernel density estimation (KDE)\n",
    "sns.kdeplot(shape_REG_Aveiro_rendaHab['ValMed_RendaMen'], fill=True)\n",
    "# Add a blue tick for every value at the bottom of the plot (rugs)\n",
    "sns.rugplot(shape_REG_Aveiro_rendaHab['ValMed_RendaMen'], alpha=0.5)\n",
    "# Loop over each break point and plot a vertical red line\n",
    "for cut in classi_quant.bins:\n",
    "    plt.axvline(cut, color='red', linewidth=0.75)"
   ]
  },
  {
   "cell_type": "markdown",
   "id": "2152f4bc-575b-4e3f-ad6a-08ec2b504c84",
   "metadata": {
    "id": "2152f4bc-575b-4e3f-ad6a-08ec2b504c84"
   },
   "source": [
    "**Análise:**\n",
    "\n",
    "O gráfico anterior é um gráfico de densidade KDE (Kernel Density Estimation) que representa a distribuição dos valores médios das rendas habitacionais nas freguesias da Região de Aveiro.\n",
    "\n",
    "A forma do gráfico sugere que os valores das rendas seguem uma distribuição aproximadamente normal, com uma leve assimetria à direita. Maior parte dos valores das rendas está concentrada entre 230 € e 360 €, aproximadamente, com um pico próximo dos 280 €, que representa a moda da distribuição. É de notar, ainda, que existem algumas freguesias com rendas superiores a 400 €, podendo indicar a presença de valores atípicos (outliers) em zonas específicas.\n",
    "\n",
    "As linhas vermelhas representam os intervalos definidos pelo método dos quantis, dividindo os dados em 6 classes de igual frequência. É possível observar que maior parte das freguesias está nos quantis centrais, reforçando a ideia de que os preços são relativamente homogéneos na região de Aveiro, embora haja alguma variação. A presença de quantis próximos entre si no centro da distribuição indica uma alta concentração de valores de rendas próximos, enquanto os quantis mais distantes nas extremidades sugerem que existem algumas freguesias com rendas significativamente mais baixas ou mais altas.\n",
    "\n",
    "O gráfico confirma a existência de variabilidade espacial nos preços das rendas na região em estudo, justificando a necessidade de uma análise econométrica espacial de forma a entender melhor os fatores que influenciam essa variação."
   ]
  },
  {
   "cell_type": "markdown",
   "id": "a42c0196-afd2-4bc3-9c15-a864e552ab09",
   "metadata": {
    "id": "a42c0196-afd2-4bc3-9c15-a864e552ab09"
   },
   "source": [
    "#### Visualização da Distribuição Espacial das Rendas Habitacionais"
   ]
  },
  {
   "cell_type": "code",
   "execution_count": null,
   "id": "2dd38816-2d28-47ab-953e-dc5ef15153c4",
   "metadata": {
    "id": "2dd38816-2d28-47ab-953e-dc5ef15153c4",
    "outputId": "2d35c429-ec05-4a14-a480-85110af9ea59"
   },
   "outputs": [],
   "source": [
    "#NOTAs:\n",
    "# note-se que agora temos de definir os argumentos column, scheme e cmap\n",
    "# o argumento «cmap» pode ser configurado seguindo esquemas predefinidos:\n",
    "# https://matplotlib.org/stable/gallery/color/colormap_reference.html\n",
    "\n",
    "\n",
    "#Usar a matplotlib para visualizar vários dados\n",
    "figura, ax = plt.subplots(figsize = (10,10) )\n",
    "ax.set_aspect('equal')\n",
    "shape_REG_Aveiro_rendaHab.plot(ax=ax, zorder=2,\n",
    "                             color='grey',\n",
    "                             edgecolor='black', linewidth=2,\n",
    "                            alpha = 0.3)\n",
    "\n",
    "shape_REG_Aveiro_rendaHab.plot(ax=ax,zorder=1,\n",
    "                      # marker=\"s\",\n",
    "                      column='ValMed_RendaMen',\n",
    "                      scheme='Quantiles',\n",
    "                      # k=7,\n",
    "                      cmap=plt.cm.Reds,\n",
    "                      linewidth=0 )"
   ]
  },
  {
   "cell_type": "markdown",
   "id": "22859efb-a858-437e-84ac-642d216a91ba",
   "metadata": {
    "id": "22859efb-a858-437e-84ac-642d216a91ba"
   },
   "source": [
    "**Análise:**\n",
    "\n",
    "Este mapa apresenta uma versão macro e simplificada da distribuição das rendas médias apresentadas no último mapa, com menos categorias de classificação. Embora contenha menos detalhe, continua a ser possível perceber a tendência geral de rendas mais elevadas nas zonas costeiras, e mais baixas no interior. As relações de vizinhança visíveis sugerem uma dependência espacial, com exceção das freguesias de S. Jacinto e Torreira justificadas anteriormente."
   ]
  },
  {
   "cell_type": "markdown",
   "id": "c0ef6eb3-7aa9-4092-842f-f38e4868c0c2",
   "metadata": {
    "id": "c0ef6eb3-7aa9-4092-842f-f38e4868c0c2"
   },
   "source": [
    "#### Classificação das Rendas Habitacionais\n",
    "\n",
    "Diferentes métodos estatísticos de classificação são aplicados aos valores das rendas. O **desvio padrão** separa os dados com base na média e no desvio padrão, o **boxplot** segmenta os dados conforme quartis, considerando a distribuição da variável, e o **Fisher Jenks** otimiza a separação de classes minimizando a variância dentro de cada grupo, auxiliando na segmentação espacial dos valores das rendas e na identificação de padrões estruturais."
   ]
  },
  {
   "cell_type": "code",
   "execution_count": null,
   "id": "ff54e786-68b1-47f0-ac22-8db07b018a58",
   "metadata": {
    "id": "ff54e786-68b1-47f0-ac22-8db07b018a58",
    "outputId": "af4bbd9c-2327-455e-9315-29acd1eae31e"
   },
   "outputs": [],
   "source": [
    "# Desvio padrão médio\n",
    "classi = mc.StdMean(shape_REG_Aveiro_rendaHab['ValMed_RendaMen'])\n",
    "classi"
   ]
  },
  {
   "cell_type": "code",
   "execution_count": null,
   "id": "9ac82274-29e3-4a8d-9bf4-37c83fa67d49",
   "metadata": {
    "id": "9ac82274-29e3-4a8d-9bf4-37c83fa67d49",
    "outputId": "8e065be1-4d79-43fb-85bb-b6a0d52543e6"
   },
   "outputs": [],
   "source": [
    "# Baseado na caixa de bigodes\n",
    "classi = mc.BoxPlot(shape_REG_Aveiro_rendaHab['ValMed_RendaMen'])\n",
    "classi"
   ]
  },
  {
   "cell_type": "code",
   "execution_count": null,
   "id": "98c1fbaf-6802-43e6-8f87-99b9ca682c8d",
   "metadata": {
    "id": "98c1fbaf-6802-43e6-8f87-99b9ca682c8d",
    "outputId": "4f9e8eb7-6309-4516-c650-5ba8d3039426"
   },
   "outputs": [],
   "source": [
    "# Fisher Jenks\n",
    "\n",
    "classi = mc.FisherJenks(shape_REG_Aveiro_rendaHab['ValMed_RendaMen'])\n",
    "classi"
   ]
  },
  {
   "cell_type": "markdown",
   "id": "fca78954-6d55-4985-b8c3-ad91d2fcff46",
   "metadata": {
    "id": "fca78954-6d55-4985-b8c3-ad91d2fcff46"
   },
   "source": [
    "#### Criação de Mapa Interativo com Folium"
   ]
  },
  {
   "cell_type": "code",
   "execution_count": null,
   "id": "62489017-d7c2-4f9c-93fb-58c8905c6214",
   "metadata": {
    "id": "62489017-d7c2-4f9c-93fb-58c8905c6214",
    "outputId": "17268189-f292-46cf-d8a1-eb0ee37564a2"
   },
   "outputs": [],
   "source": [
    "import folium\n",
    "import geopandas as gpd\n",
    "\n",
    "# Ensure CRS is set to WGS84 (EPSG:4326) for compatibility with Folium\n",
    "shape_REG_Aveiro_rendaHab_folium = shape_REG_Aveiro_rendaHab.to_crs(epsg=4326)\n",
    "\n",
    "shape_REG_Aveiro_rendaHab_folium[\"ValMed_RendaMen_rounded\"] = shape_REG_Aveiro_rendaHab_folium[\"ValMed_RendaMen\"].apply(lambda x: f\"{x:.0f} €\")\n",
    "#shape_REG_Aveiro_rendaHab_folium[\"DivAct_PT_rounded\"] = shape_REG_Aveiro_rendaHab_folium[\"DivAct_PT\"].apply(lambda x: f\"{x:.2f}\")\n",
    "\n",
    "# Compute map center based on centroids\n",
    "map_center = [\n",
    "    shape_REG_Aveiro_rendaHab_folium.geometry.centroid.y.mean(),\n",
    "    shape_REG_Aveiro_rendaHab_folium.geometry.centroid.x.mean()\n",
    "]\n",
    "\n",
    "\n",
    "\n",
    "# Create Folium map\n",
    "m = folium.Map(\n",
    "    location=map_center,\n",
    "    tiles=\"OpenStreetMap\",\n",
    "    zoom_start=13,\n",
    "    control_scale=False\n",
    ")\n",
    "\n",
    "# Add Choropleth layer for visualization\n",
    "folium.Choropleth(\n",
    "    geo_data=shape_REG_Aveiro_rendaHab_folium,\n",
    "    data=shape_REG_Aveiro_rendaHab_folium,\n",
    "    columns=[\"DTMNFR21\", \"ValMed_RendaMen\"],\n",
    "    key_on=\"feature.properties.DTMNFR21\",\n",
    "    fill_color='Reds',\n",
    "    fill_opacity=0.6,\n",
    "    line_opacity=0.5,\n",
    "    linewidth=0.5,\n",
    "    legend_name=\"Valor Medio Renda Mensal\"\n",
    ").add_to(m)\n",
    "\n",
    "# Function to create HTML popups dynamically\n",
    "def create_popup(properties):\n",
    "    popup_html = \"<b>Feature Info:</b><br>\"\n",
    "    popup_html += \"<br>\".join([f\"{key}: {value}\" for key, value in properties.items()])\n",
    "    return popup_html\n",
    "\n",
    "# Define a style function for polygon boundaries\n",
    "def style_function(feature):\n",
    "    return {\n",
    "        'color': 'black',       # Boundary line color\n",
    "        'weight': 2,            # Line thickness (higher values = thicker borders)\n",
    "        'fill_opacity': 0.6,     # Adjust fill transparency\n",
    "        'fill_color': 'Reds'      # Optional: Override Choropleth fill color\n",
    "    }\n",
    "# Add GeoJson with popups\n",
    "folium.GeoJson(\n",
    "    shape_REG_Aveiro_rendaHab_folium,\n",
    "    name=\"BGRI Polygons\",\n",
    "    style_function=style_function,  # Apply custom boundary styles\n",
    "    tooltip=folium.GeoJsonTooltip(\n",
    "        fields=[\"Designacao\",\"DTMNFR21\", \"ValMed_RendaMen_rounded\"],\n",
    "        aliases=[\"Freguesia\",\"BGRI Code:\", \"Renda Média Mensal (€):\"]\n",
    "    ),\n",
    "    popup=folium.GeoJsonPopup(\n",
    "        fields=[\"Designacao\",\"DTMNFR21\", \"ValMed_RendaMen_rounded\"],\n",
    "        aliases=[\"Freguesia\",\"BGRI Code:\", \"Renda Média Mensal (€):\"]\n",
    "    )\n",
    ").add_to(m)\n",
    "\n",
    "# Save and display\n",
    "m"
   ]
  },
  {
   "cell_type": "markdown",
   "id": "ac8d43c9-d7da-4cd6-ba7c-e1a1a7c29b48",
   "metadata": {
    "id": "ac8d43c9-d7da-4cd6-ba7c-e1a1a7c29b48"
   },
   "source": [
    "#### Construção da Matriz de Pesos Espaciais\n",
    "\n",
    "A matriz de pesos é essencial para modelar a dependência espacial. Definem-se vizinhanças com base no compartilhamento de fronteiras ou vértices, permitindo avaliar se as rendas numa freguesia estão correlacionadas com as das freguesias vizinhas."
   ]
  },
  {
   "cell_type": "code",
   "execution_count": null,
   "id": "096f1f1c-1b62-4d31-80a4-a7f196d59231",
   "metadata": {
    "id": "096f1f1c-1b62-4d31-80a4-a7f196d59231"
   },
   "outputs": [],
   "source": [
    "import scipy"
   ]
  },
  {
   "cell_type": "code",
   "execution_count": null,
   "id": "19a8723d-8f2d-477c-9584-bb3156b87590",
   "metadata": {
    "id": "19a8723d-8f2d-477c-9584-bb3156b87590",
    "outputId": "a9f6dce9-f9c1-4a22-e4dc-e39189667811"
   },
   "outputs": [],
   "source": [
    "scipy.__version__"
   ]
  },
  {
   "cell_type": "code",
   "execution_count": null,
   "id": "d0a5ff1e-b6ae-4151-9595-3ae97e6a7a12",
   "metadata": {
    "id": "d0a5ff1e-b6ae-4151-9595-3ae97e6a7a12"
   },
   "outputs": [],
   "source": [
    "from pysal.lib import weights\n",
    "\n",
    "\n",
    "# # https://pysal.org/libpysal/api.html\n",
    "# from libpysal.weights.contiguity import Queen\n",
    "\n",
    "# from libpysal.cg import voronoi_frames"
   ]
  },
  {
   "cell_type": "code",
   "execution_count": null,
   "id": "d58b734d-a40f-403b-b18c-8a2d9882349e",
   "metadata": {
    "id": "d58b734d-a40f-403b-b18c-8a2d9882349e",
    "outputId": "5d196cc1-aad7-45d7-a909-a4554620c4a5"
   },
   "outputs": [],
   "source": [
    "# Contiguidade Queen\n",
    "\n",
    "w_rook_shape_REG_Aveiro_rendaHab = weights.contiguity.Queen.from_dataframe(shape_REG_Aveiro_rendaHab)"
   ]
  },
  {
   "cell_type": "code",
   "execution_count": null,
   "id": "88319d6f-2aac-41cb-974d-9627bdccdb4c",
   "metadata": {
    "id": "88319d6f-2aac-41cb-974d-9627bdccdb4c",
    "outputId": "6cdfcb1c-40a5-4054-cf08-b59d4b08587a"
   },
   "outputs": [],
   "source": [
    "shape_REG_Aveiro_rendaHab['ValMed_RendaMen'].describe()"
   ]
  },
  {
   "cell_type": "code",
   "execution_count": null,
   "id": "566ddc7c-b2f1-48cf-9511-e57136af511b",
   "metadata": {
    "id": "566ddc7c-b2f1-48cf-9511-e57136af511b",
    "outputId": "d284da7b-527a-4d0b-b964-f168f6ac2924"
   },
   "outputs": [],
   "source": [
    "shape_REG_Aveiro_rendaHab['ValMed_RendaMen'].isna().sum()"
   ]
  },
  {
   "cell_type": "markdown",
   "id": "5937c7bf-c670-4c57-ae62-dccaafaae1cc",
   "metadata": {
    "id": "5937c7bf-c670-4c57-ae62-dccaafaae1cc"
   },
   "source": [
    "**Nota:** Não há dados em falta, portanto não é necessário a imputação de dados."
   ]
  },
  {
   "cell_type": "markdown",
   "id": "55dda31a-ce96-40d8-b716-5e2be75d53bf",
   "metadata": {
    "id": "55dda31a-ce96-40d8-b716-5e2be75d53bf"
   },
   "source": [
    "### Associação (autocorrelação) espacial\n",
    "\n",
    "A associação espacial emerge nos dados quando é possível observar correlações entre observações «próximas». Na análise univariada, pode-se calcular o \"Índice de Moran - Índice Global de Associação Espacial\" bem como a sua \"variante\" local: o \"Índice Local de Associação Espacial\" LISA (na sigla inglesa)."
   ]
  },
  {
   "cell_type": "markdown",
   "id": "0eeac30d-c22c-4122-923e-a9bbf8df2ef1",
   "metadata": {
    "id": "0eeac30d-c22c-4122-923e-a9bbf8df2ef1"
   },
   "source": [
    "#### Associação espacial - Global\n",
    "\n",
    "O **índice de Moran** mede a autocorrelação espacial, ou seja, verifica se há uma relação estatística entre os valores das rendas e os valores das freguesias vizinhas. Se os valores próximos forem muito semelhantes, existe autocorrelação espacial positiva, caso sejam muito diferentes, há autocorrelação espacial negativa."
   ]
  },
  {
   "cell_type": "markdown",
   "id": "b657e4e2-ee83-4c85-8e61-25c26e83c6e1",
   "metadata": {
    "id": "b657e4e2-ee83-4c85-8e61-25c26e83c6e1"
   },
   "source": [
    "Moran’s I é definido por:\n",
    "$$\n",
    "I = \\frac{N}{W}\\frac{\\sum_{i} \\sum_{j} w_{ij} (x_i - \\bar{x})(x_j - \\bar{x})}{\\sum_{i} (x_i - \\bar{x})^2}\n",
    "$$\n",
    "onde:\n",
    "- $( N )$ é o número total de observações no espaço\n",
    "- $( W )$ é a soma de todos os pesos $( w_{ij} )$\n",
    "- $( x_i )$ é o valor observado na localização $( i )$\n",
    "- $( \\bar{x} )$ é a média de todas as observações\n",
    "- $( w_{ij} )$ é o peso espacial entre locais $( i )$ e $( j )$\n",
    "\n",
    "\n",
    "**Interpretação de Moran's I:**\n",
    "- $I > 0$ indica autocorrelação espacial positiva (valores similares próximos).\n",
    "- $I < 0$ indica autocorrelação espacial negativa (valores dissimilares próximos).\n",
    "- $I \\approx 0$ indica ausência de autocorrelação espacial.\n",
    "\n"
   ]
  },
  {
   "cell_type": "code",
   "execution_count": null,
   "id": "1c0ace17-71aa-4ea8-8948-02e397b9fafe",
   "metadata": {
    "id": "1c0ace17-71aa-4ea8-8948-02e397b9fafe"
   },
   "outputs": [],
   "source": [
    "# Calcular o \"spatial lag\" (desfasamento espacial)\n",
    "\n",
    "precoM2_lag = weights.lag_spatial(w_rook_shape_REG_Aveiro_rendaHab, shape_REG_Aveiro_rendaHab['ValMed_RendaMen'])\n",
    "shape_REG_Aveiro_rendaHab[\"ValMed_RendaMen_lag\"] = precoM2_lag"
   ]
  },
  {
   "cell_type": "code",
   "execution_count": null,
   "id": "ad70de21-8305-4e56-a9d2-79e30a85a475",
   "metadata": {
    "id": "ad70de21-8305-4e56-a9d2-79e30a85a475"
   },
   "outputs": [],
   "source": [
    "# \"Normalizar\" (cálculo de z-scores) as variáveis (original e desfasada)\n",
    "shape_REG_Aveiro_rendaHab['ValMed_RendaMen_std'] = ( shape_REG_Aveiro_rendaHab['ValMed_RendaMen'] - shape_REG_Aveiro_rendaHab['ValMed_RendaMen'].mean() )\\\n",
    "                    / shape_REG_Aveiro_rendaHab['ValMed_RendaMen'].std()\n",
    "shape_REG_Aveiro_rendaHab['ValMed_RendaMen_lag_std'] = ( shape_REG_Aveiro_rendaHab['ValMed_RendaMen_lag'] - shape_REG_Aveiro_rendaHab['ValMed_RendaMen_lag'].mean() )\\\n",
    "                    / shape_REG_Aveiro_rendaHab['ValMed_RendaMen_lag'].std()"
   ]
  },
  {
   "cell_type": "code",
   "execution_count": null,
   "id": "438a568a-8914-44f8-9ffc-cfe61bc08e26",
   "metadata": {
    "id": "438a568a-8914-44f8-9ffc-cfe61bc08e26",
    "outputId": "20708759-74ff-4dd4-99c6-0f845078dc37"
   },
   "outputs": [],
   "source": [
    "# Moran Plot\n",
    "f, ax = plt.subplots(1, figsize=(6, 6))\n",
    "sns.regplot(x='ValMed_RendaMen_std', y='ValMed_RendaMen_lag_std',\n",
    "                ci=None, data=shape_REG_Aveiro_rendaHab, line_kws={'color':'r'})\n",
    "ax.axvline(0, c='k', alpha=0.5)\n",
    "ax.axhline(0, c='k', alpha=0.5)\n",
    "ax.set_title('Moran Plot')\n",
    "plt.show()"
   ]
  },
  {
   "cell_type": "markdown",
   "id": "b989e2e5-dabd-4069-bf94-43e929e8a836",
   "metadata": {
    "id": "b989e2e5-dabd-4069-bf94-43e929e8a836"
   },
   "source": [
    "**Análise:**\n",
    "\n",
    "O gráfico acima apresentado mostra a relação entre os valores normalizados da variável de interesse (renda habitacional média) e os valores médios vizinhos espaciais, sendo que a reta vermelha indica a tendência da relação espacial.\n",
    "\n",
    "O coeficiente positivo da reta sugere uma autocorrelação espacial positiva fraca, significando que há uma leve tendência de locais com valores semelhantes de renda habitacional estarem próximos uns dos outros. No entanto, a dispersão dos pontos sugere que essa autocorrelação pode não ser muito forte."
   ]
  },
  {
   "cell_type": "code",
   "execution_count": null,
   "id": "b7690ccd-d290-4463-84bb-06e7ea5ab0a2",
   "metadata": {
    "id": "b7690ccd-d290-4463-84bb-06e7ea5ab0a2"
   },
   "outputs": [],
   "source": [
    "# Gerar dados espaciais sintéticos\n",
    "def gerar_dados_grelha(linhas=10, colunas=10, random_state=42):\n",
    "    np.random.seed(random_state)\n",
    "    x, y = np.meshgrid(range(colunas), range(linhas))\n",
    "    pontos = np.column_stack([x.ravel(), y.ravel()])\n",
    "    valores = np.random.rand(linhas * colunas)\n",
    "    return pontos, valores\n",
    "\n",
    "# Gerar dados sintéticos\n",
    "pontos, valores = gerar_dados_grelha()\n"
   ]
  },
  {
   "cell_type": "code",
   "execution_count": null,
   "id": "c8222ece-8d52-4ffb-b746-5c7feea3cb26",
   "metadata": {
    "id": "c8222ece-8d52-4ffb-b746-5c7feea3cb26"
   },
   "outputs": [],
   "source": [
    "\n",
    "\n",
    "from libpysal.weights import lat2W\n",
    "\n",
    "# Criar matriz de pesos\n",
    "w = lat2W(int(np.sqrt(len(pontos))), int(np.sqrt(len(pontos))))\n",
    "matriz_pesos = np.array(w.full()[0])"
   ]
  },
  {
   "cell_type": "code",
   "execution_count": null,
   "id": "4a7b5756-e49e-4cc4-95de-6c531a614317",
   "metadata": {
    "id": "4a7b5756-e49e-4cc4-95de-6c531a614317"
   },
   "outputs": [],
   "source": [
    "# Função para calcular Moran's I\n",
    "def morans_I(valores, matriz_pesos):\n",
    "    N = len(valores)\n",
    "    W = matriz_pesos.sum()\n",
    "    x_barra = np.mean(valores)\n",
    "    desvios = valores - x_barra\n",
    "    num = sum(matriz_pesos[i, j] * desvios[i] * desvios[j] for i in range(N) for j in range(N))\n",
    "    denom = sum(desvios ** 2)\n",
    "    return (N / W) * (num / denom)"
   ]
  },
  {
   "cell_type": "code",
   "execution_count": null,
   "id": "ef7e1c77-f7ff-42ef-88a5-801286f8cf9d",
   "metadata": {
    "id": "ef7e1c77-f7ff-42ef-88a5-801286f8cf9d"
   },
   "outputs": [],
   "source": [
    "moran_val = morans_I(valores, matriz_pesos)"
   ]
  },
  {
   "cell_type": "code",
   "execution_count": null,
   "id": "a6332e79-c618-40c7-82b2-2241ff0abc2a",
   "metadata": {
    "id": "a6332e79-c618-40c7-82b2-2241ff0abc2a",
    "outputId": "1b83d5d5-38a7-4fcb-a3c2-6d6516929eb0"
   },
   "outputs": [],
   "source": [
    "moran_val"
   ]
  },
  {
   "cell_type": "code",
   "execution_count": null,
   "id": "ff801abd-7db6-4ffa-bb74-3590ea6fc6dc",
   "metadata": {
    "id": "ff801abd-7db6-4ffa-bb74-3590ea6fc6dc",
    "outputId": "a6165d5d-f0ff-4bd5-c70b-01d4d58c32ef"
   },
   "outputs": [],
   "source": [
    "np.array(w_rook_shape_REG_Aveiro_rendaHab.full()[0])\n",
    "\n"
   ]
  },
  {
   "cell_type": "code",
   "execution_count": null,
   "id": "4c74aecf-2b57-466b-8327-95d1a0e9db1c",
   "metadata": {
    "id": "4c74aecf-2b57-466b-8327-95d1a0e9db1c",
    "outputId": "4abf8ca5-6e79-4af5-9610-14d6fd6c796c"
   },
   "outputs": [],
   "source": [
    "moran_val_cs = morans_I(shape_REG_Aveiro_rendaHab['ValMed_RendaMen'], w_rook_shape_REG_Aveiro_rendaHab.full()[0] )\n",
    "\n",
    "moran_val_cs"
   ]
  },
  {
   "cell_type": "markdown",
   "id": "5d7cec65-d9fd-4159-a652-2218acc98b15",
   "metadata": {
    "id": "5d7cec65-d9fd-4159-a652-2218acc98b15"
   },
   "source": [
    "#### Inferência\n",
    "\n",
    "Os testes de permutação avaliam a significância estatística dos índices espaciais ao compará-los a distribuições empíricas geradas a partir de permutações aleatórias dos dados.\n",
    "\n",
    "**Hipóteses dos Testes de Permutação - Moran I**\n",
    "- **Hipótese nula ($H_0$)**: Não há autocorrelação espacial, os valores estão distribuídos aleatoriamente.\n",
    "- **Hipótese alternativa ($H_1$)**: Existe autocorrelação espacial significativa."
   ]
  },
  {
   "cell_type": "markdown",
   "id": "d2ddb54e-f690-4c97-b44b-20c1494e79ab",
   "metadata": {
    "id": "d2ddb54e-f690-4c97-b44b-20c1494e79ab"
   },
   "source": [
    "#### Teste de Permutação para Significância Estatística\n",
    "\n",
    "O teste de permutação avalia a significância da autocorrelação espacial. Ao gerar distribuições empíricas aleatórias, pode-se comparar o Moran's I observado com valores esperados sob a hipótese nula (ausência de padrão espacial). O *p-value* indica se a autocorrelação detetada é estatísticamente significante."
   ]
  },
  {
   "cell_type": "code",
   "execution_count": null,
   "id": "ab30f1ed-a533-47a7-8b1c-35c5412bba3d",
   "metadata": {
    "id": "ab30f1ed-a533-47a7-8b1c-35c5412bba3d"
   },
   "outputs": [],
   "source": [
    "# Teste de permutação para Moran's I\n",
    "def permutacao_morans_I(valores, matriz_pesos, num_permutacoes=999):\n",
    "    I_obs = morans_I(valores, matriz_pesos)\n",
    "    permutados = np.zeros(num_permutacoes)\n",
    "    for i in range(num_permutacoes):\n",
    "        valores_perm = np.random.permutation(valores)\n",
    "        permutados[i] = morans_I(valores_perm, matriz_pesos)\n",
    "    p_valor = np.mean(permutados >= I_obs)\n",
    "    return I_obs, permutados, p_valor"
   ]
  },
  {
   "cell_type": "code",
   "execution_count": null,
   "id": "4a7c408b-bb8f-4d1c-b0fc-5b23541137ca",
   "metadata": {
    "id": "4a7c408b-bb8f-4d1c-b0fc-5b23541137ca",
    "outputId": "92f8cc6f-1256-48e3-fa42-c6374c3e8c26"
   },
   "outputs": [],
   "source": [
    "#I_obs, I_permutados_obs, I_permutados_pvalue = permutacao_morans_I(valores, matriz_pesos, 999)\n",
    "#I_obs, I_permutados_pvalue\n",
    "I_obs, I_permutados_obs, I_permutados_pvalue = permutacao_morans_I(shape_REG_Aveiro_rendaHab['ValMed_RendaMen'],\n",
    "                                                                   w_rook_shape_REG_Aveiro_rendaHab.full()[0] , 999)\n",
    "I_obs, I_permutados_pvalue\n"
   ]
  },
  {
   "cell_type": "markdown",
   "id": "c05a3055-c25f-439e-8d97-f93690dd5766",
   "metadata": {
    "id": "c05a3055-c25f-439e-8d97-f93690dd5766"
   },
   "source": [
    "**Análise:**\n",
    "\n",
    "O valor do **Moran's I** observado (I_obs = 0.3170) é positivo, indicando a presença de autocorrelação espacial. Isso significa que locais com rendas habitacionais semelhantes tendem a estar próximos. Além disso, o valor de 0.3170 sugere uma autocorrelação moderada, pois está consideravelmente distante de zero.\n",
    "\n",
    "Por outro lado, o ***p-value*** (I_permutados_pvalue = 0.0) é extremamente baixo, o que indica forte evidência estatística contra a hipótese nula de ausência de autocorrelação espacial significativa. Em outras palavras, a estrutura espacial observada nos dados não pode ser explicada por acaso, reforçando a existência de um padrão espacial significativo na distribuição das rendas habitacionais."
   ]
  },
  {
   "cell_type": "code",
   "execution_count": null,
   "id": "758ed1f7-88ae-4a30-abdc-c66a9ee95d06",
   "metadata": {
    "id": "758ed1f7-88ae-4a30-abdc-c66a9ee95d06",
    "outputId": "95d99a80-3c2f-4928-b1cb-93ec8e98b604"
   },
   "outputs": [],
   "source": [
    "# Visualizar a distribuição empírica\n",
    "plt.hist(I_permutados_obs, bins=30, alpha=0.7, color='blue')\n",
    "plt.axvline(moran_val_cs, color='red', linestyle='dashed', linewidth=2)\n",
    "plt.title(\"Distribuição Empírica do Teste de Permutação para Moran's I\")\n",
    "plt.xlabel(\"Valores de Moran's I Permutados\")\n",
    "plt.ylabel(\"Frequência\")\n",
    "plt.show()"
   ]
  },
  {
   "cell_type": "markdown",
   "id": "feffd107-ae33-4683-940a-059a6d5fcaf5",
   "metadata": {
    "id": "feffd107-ae33-4683-940a-059a6d5fcaf5"
   },
   "source": [
    "**Análise:**\n",
    "\n",
    "O histograma mostra a distribuição dos valores de Moran's I gerados por permutação aleatória, sendo que a linha vermelha representa o Moran's I observado nos dados reais.\n",
    "\n",
    "Como dito anteriormente, como o valor de Moran's I observado está fora da distribuição, a autocorrelação espacial é estatisticamente significativa."
   ]
  },
  {
   "cell_type": "code",
   "execution_count": null,
   "id": "6c1470b6-a9ca-429c-95ad-596d7282d801",
   "metadata": {
    "id": "6c1470b6-a9ca-429c-95ad-596d7282d801"
   },
   "outputs": [],
   "source": [
    "# Este código não está otimizado para grandes conjuntos de dados pelo que pode demorar algum tempo a executar\n",
    "\n",
    "# I_permutados_cs_Iobs,I_permutados_cs, I_permutados_pvalue  = permutacao_morans_I(shape_BGRI21_Porto_CircEUlar['HousingPrice_Imputation'], w_rook_shape_BGRI21_Porto_CircEUlar.full()[0], 999)\n",
    "# I_permutados_cs_Iobs,I_permutados_pvalue"
   ]
  },
  {
   "cell_type": "markdown",
   "id": "18aa3360-b3ec-43f6-8a3c-a00e5db9da91",
   "metadata": {
    "id": "18aa3360-b3ec-43f6-8a3c-a00e5db9da91"
   },
   "source": [
    "##### Usando a biblioteca PySAL"
   ]
  },
  {
   "cell_type": "code",
   "execution_count": null,
   "id": "def93543-0d34-4936-9fad-340b38fb7aa9",
   "metadata": {
    "id": "def93543-0d34-4936-9fad-340b38fb7aa9"
   },
   "outputs": [],
   "source": [
    "# from pysal.explore import esda\n",
    "from esda.moran import Moran\n",
    "from esda.moran import Moran_Local\n",
    "\n",
    "# https://splot.readthedocs.io/en/latest/api.html\n",
    "# pysal.viz »» splot [splot.esda] (tem métodos para esda e outras componentes - ver api)\n",
    "from splot.esda import moran_scatterplot\n",
    "from splot.esda import lisa_cluster\n",
    "from splot.esda import plot_moran\n"
   ]
  },
  {
   "cell_type": "code",
   "execution_count": null,
   "id": "12c56b65-0512-46dd-88b9-65f7c0be59e4",
   "metadata": {
    "id": "12c56b65-0512-46dd-88b9-65f7c0be59e4",
    "outputId": "2d940f30-57b0-4f64-b6ba-ee1d7ee4b107"
   },
   "outputs": [],
   "source": [
    "moran_REG_Aveiro_rendaHab_WRook = Moran(shape_REG_Aveiro_rendaHab['ValMed_RendaMen'], w_rook_shape_REG_Aveiro_rendaHab)\n",
    "moran_REG_Aveiro_rendaHab_WRook.I, moran_REG_Aveiro_rendaHab_WRook.p_sim"
   ]
  },
  {
   "cell_type": "markdown",
   "id": "208c636b-e82e-4588-8ce0-e60b36a572c1",
   "metadata": {
    "id": "208c636b-e82e-4588-8ce0-e60b36a572c1"
   },
   "source": [
    "#### Associação espacial - Local"
   ]
  },
  {
   "cell_type": "markdown",
   "id": "fd9a3776-e31a-4d55-b6cf-063674f6357a",
   "metadata": {
    "id": "fd9a3776-e31a-4d55-b6cf-063674f6357a"
   },
   "source": [
    "LISA mede a autocorrelação local e é definido por:\n",
    "$$\n",
    "I_i = \\frac{(x_i - \\bar{x})}{S^2} \\sum_j w_{ij} (x_j - \\bar{x})\n",
    "$$\n",
    "\n",
    "onde:\n",
    "- $I_i$ é o valor de Moran's I local para a observação $i$.\n",
    "- $S^2$ é a variância da variável espacial.\n",
    "- $w_{ij}$ é o peso espacial entre a observação $i$ e seus vizinhos $j$.\n",
    "\n",
    "\n",
    "**Interpretação de Moran's I:**\n",
    "- $I > 0$ indica autocorrelação espacial positiva (valores similares próximos).\n",
    "- $I < 0$ indica autocorrelação espacial negativa (valores dissimilares próximos).\n",
    "- $I \\approx 0$ indica ausência de autocorrelação espacial.\n",
    "\n",
    "Cada observação possui um valor LISA próprio, permitindo analisar padrões espaciais locais.\n"
   ]
  },
  {
   "cell_type": "markdown",
   "id": "2e9f6d56-cdc4-4891-b98c-0558a0fca8f6",
   "metadata": {
    "id": "2e9f6d56-cdc4-4891-b98c-0558a0fca8f6"
   },
   "source": [
    "Interpretar os valores LISA:\n",
    "   - **Alto-Alto (AA)**: valores elevados cercados por valores elevados.\n",
    "   - **Baixo-Baixo (BB)**: valores baixos cercados por valores baixos.\n",
    "   - **Alto-Baixo (AB)**: valores altos cercados por valores baixos.\n",
    "   - **Baixo-Alto (BA)**: valores baixos cercados por valores altos."
   ]
  },
  {
   "cell_type": "code",
   "execution_count": null,
   "id": "eaee7b09-666b-4984-8fe2-ae30b2ba5de2",
   "metadata": {
    "id": "eaee7b09-666b-4984-8fe2-ae30b2ba5de2"
   },
   "outputs": [],
   "source": [
    "# Função para calcular LISA\n",
    "def lisa_local(valores, matriz_pesos):\n",
    "    n = len(valores)\n",
    "    media_valores = np.mean(valores)\n",
    "    desvios = valores - media_valores\n",
    "    W_soma = matriz_pesos.sum(axis=1)\n",
    "    lisa_I = np.array([(n / W_soma[i]) * (desvios[i] * np.sum(matriz_pesos[i, :] * desvios)) for i in range(n)])\n",
    "    return lisa_I"
   ]
  },
  {
   "cell_type": "code",
   "execution_count": null,
   "id": "83b5e097-cde0-4310-b20b-eb6813c96990",
   "metadata": {
    "id": "83b5e097-cde0-4310-b20b-eb6813c96990"
   },
   "outputs": [],
   "source": [
    "lisa_valores = lisa_local(valores, matriz_pesos)"
   ]
  },
  {
   "cell_type": "markdown",
   "id": "ff16a383-0eaa-489c-987d-fab90627441b",
   "metadata": {
    "id": "ff16a383-0eaa-489c-987d-fab90627441b"
   },
   "source": [
    "#### Inferência\n",
    "\n",
    "Os testes de permutação avaliam a significância estatística dos índices espaciais ao compará-los a distribuições empíricas geradas a partir de permutações aleatórias dos dados.\n",
    "\n",
    "**Hipóteses dos Testes de Permutação - LISA**\n",
    "- **Hipótese nula ($H_0$)**: O valor observado na localização $i$ não tem correlação espacial com seus vizinhos.\n",
    "- **Hipótese alternativa ($H_1$)**: O valor na localização $i$ está correlacionado espacialmente com os vizinhos."
   ]
  },
  {
   "cell_type": "code",
   "execution_count": null,
   "id": "9de6a3ea-b589-4711-b29e-2bccb5b765b4",
   "metadata": {
    "id": "9de6a3ea-b589-4711-b29e-2bccb5b765b4"
   },
   "outputs": [],
   "source": [
    "def permutacao_lisa(valores, matriz_pesos, num_permutacoes=999):\n",
    "    lisa_obs = lisa_local(valores, matriz_pesos)\n",
    "    N = len(valores)\n",
    "    permutados = np.zeros((num_permutacoes, N))\n",
    "    for p in range(num_permutacoes):\n",
    "        valores_perm = np.random.permutation(valores)\n",
    "        permutados[p] = lisa_local(valores_perm, matriz_pesos)\n",
    "    p_valores = np.mean(np.abs(permutados) >= np.abs(lisa_obs), axis=0)\n",
    "    return lisa_obs, p_valores"
   ]
  },
  {
   "cell_type": "markdown",
   "id": "a9f8d2a3-0d9c-4012-afda-d490bdd7dead",
   "metadata": {
    "id": "a9f8d2a3-0d9c-4012-afda-d490bdd7dead"
   },
   "source": [
    "##### Usando a biblioteca PySAL"
   ]
  },
  {
   "cell_type": "code",
   "execution_count": null,
   "id": "f2846989-aad8-46b8-a39a-b8e2e547b803",
   "metadata": {
    "id": "f2846989-aad8-46b8-a39a-b8e2e547b803"
   },
   "outputs": [],
   "source": [
    "# calculate Moran_Local and plot\n",
    "moranLocal_REG_Aveiro_rendaHab_WRook = Moran_Local(shape_REG_Aveiro_rendaHab['ValMed_RendaMen'], w_rook_shape_REG_Aveiro_rendaHab)"
   ]
  },
  {
   "cell_type": "code",
   "execution_count": null,
   "id": "42fa4542-eac4-4211-8350-83e71aeea7e0",
   "metadata": {
    "id": "42fa4542-eac4-4211-8350-83e71aeea7e0",
    "outputId": "9445efa0-f957-40ad-ab07-6f352ba94135"
   },
   "outputs": [],
   "source": [
    "lisa_cluster(moranLocal_REG_Aveiro_rendaHab_WRook, shape_REG_Aveiro_rendaHab, p=0.05, figsize = (8,9))\n",
    "plt.show()"
   ]
  },
  {
   "cell_type": "markdown",
   "id": "d9fb7176-1ca0-4b14-9503-4531e5bd7dc9",
   "metadata": {
    "id": "d9fb7176-1ca0-4b14-9503-4531e5bd7dc9"
   },
   "source": [
    "O mapa apresenta a análise LISA das rendas habitacionais, que torna possível identificar clusters espaciais relevantes para a análise exploratória dos dados.\n",
    "\n",
    "A distribuição espacial das rendas sugere que existe desigualdade territorial, com áreas valorizadas próximas entre si e zonas com rendas de valores mais baixos, a saber:\n",
    "\n",
    "*   AA (HH, vermelho): Freguesias com rendas elevadas rodeadas por outras igualmente altas. Esta concentração está ao centro da região, associada a melhores infraestruturas, serviços e à proximidade ao litoral.\n",
    "*   BB (LL, azul escuro): Áreas com rendas baixas cercadas por outras também baixas, localizadas no interior. Este padrão reflete menor procura imobiliária e menor dinamismo económico.\n",
    "*   AB (HL, laranja): Refere-se a freguesias com rendas elevadas, rodeadas por áreas com rendas mais baixas. Exemplos incluem Águeda e Albergaria-a-Velha, que são influenciadas pela existência de zonas industriais, que consequentemente, tem impacto na valorização imobiliária dessas freguesias.\n",
    "*   BA (LH, azul escuro): Existe apenas uma freguesia na região de Aveiro nesta categoria. Apresenta-se com rendas baixas, cercada por áreas de rendas altas, e normalmente representa zonas de transição ou de crescimento.\n",
    "*   ns (Não significativo, cinzento): Regiões sem padrão estatisticamente significativo."
   ]
  },
  {
   "cell_type": "code",
   "execution_count": null,
   "id": "8da263c5-f830-448c-85cd-d61dc0aabcea",
   "metadata": {
    "id": "8da263c5-f830-448c-85cd-d61dc0aabcea",
    "outputId": "90951279-5a3d-4b09-d3c3-a0e3ad0c3a59"
   },
   "outputs": [],
   "source": [
    "figura, ax = moran_scatterplot(moranLocal_REG_Aveiro_rendaHab_WRook, p=0.05)\n",
    "ax.set_xlabel('HabitacoesRendaMensal')\n",
    "ax.set_ylabel('Spatial Lag of HabitacoesRendaMensal')\n",
    "plt.show()"
   ]
  },
  {
   "cell_type": "markdown",
   "id": "e7e5fdd1-922d-4fe5-b3b2-7451b68edadf",
   "metadata": {
    "id": "e7e5fdd1-922d-4fe5-b3b2-7451b68edadf"
   },
   "source": [
    "Alinhado com a análise LISA, conseguimos também perceber através deste scatterplot as aglomerações de freguesias com valores semelhantes.\n",
    "\n",
    "No **quadrante superior direito (AA)** estão representadas as unidades com valores mais altos e rodeadas por outras com valores parecidos. Enquanto que no **quadrante oposto (BB)**, temos um cluster de freguesias com valores baixos de renda vizinhos de outras com valores semelhantes.\n",
    "\n",
    "Os outliers positivos presentes no **quadrante inferior direito (AB)** tem valores altos cercados por valores baixos, destacando-se da maioria das áreas ao redor.\n",
    "\n",
    "O restante, que compõe a maioria da região, está distribuído de forma mais homogénea, sem uma clara tendência para valores altos ou baixos."
   ]
  },
  {
   "cell_type": "markdown",
   "id": "9VgM8GIUxbCa",
   "metadata": {
    "id": "9VgM8GIUxbCa"
   },
   "source": [
    "# Conclusão\n",
    "\n",
    "A análise econométrica espacial das rendas habitacionais na região de Aveiro revela padrões de desigualdade espacial que têm implicações significativas no contexto económico e imobiliário. As áreas centrais, com rendas mais elevadas, estão fortemente associadas a uma melhor qualidade das infraestruturas, impulsionada pela procura e pelo dinamismo económico dessas zonas. Esse padrão evidencia uma concentração de recursos e oportunidades, que favorece as regiões mais próximas dos centros urbanos.\n",
    "\n",
    "Por outro lado, as áreas mais periféricas, com rendas mais baixas, têm menor procura imobiliária e refletem um mercado mais estagnado, associado a uma menor atratividade para investimentos e desenvolvimento económico.\n",
    "\n",
    "As zonas industriais, identificadas na categoria AB, acabam por ser uma exceção à regra e ilustram como o desenvolvimento económico local pode impactar os valores das rendas, criando áreas de transição onde a valorização imobiliária é mais lenta, mas com potencial de crescimento futuro. Isso pode ter implicações sociais, pois pode gerar uma mudança na dinâmica das populações, com a entrada de novos residentes e empresas.\n",
    "\n",
    "Esses resultados destacam a necessidade de políticas públicas que promovem um desenvolvimento mais equilibrado de forma a minimizar as desigualdades no mercado imobiliário e favoreça a inclusão social e económica."
   ]
  },
  {
   "cell_type": "markdown",
   "id": "MH2DU3nNx7h2",
   "metadata": {
    "id": "MH2DU3nNx7h2"
   },
   "source": [
    " O trabalho aqui apresentado foi realizado por:\n",
    "- Ana Maria Rosca (108820);\n",
    "- Filipa Santos (77632);\n",
    "- Willian Pegorin (122970)."
   ]
  }
 ],
 "metadata": {
  "colab": {
   "provenance": []
  },
  "kernelspec": {
   "display_name": "Python 3 (ipykernel)",
   "language": "python",
   "name": "python3"
  },
  "language_info": {
   "codemirror_mode": {
    "name": "ipython",
    "version": 3
   },
   "file_extension": ".py",
   "mimetype": "text/x-python",
   "name": "python",
   "nbconvert_exporter": "python",
   "pygments_lexer": "ipython3",
   "version": "3.12.8"
  }
 },
 "nbformat": 4,
 "nbformat_minor": 5
}
